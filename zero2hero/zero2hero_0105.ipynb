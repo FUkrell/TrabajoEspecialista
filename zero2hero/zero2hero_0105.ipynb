{
 "cells": [
  {
   "cell_type": "markdown",
   "metadata": {},
   "source": [
    "# Zero to Hero"
   ]
  },
  {
   "cell_type": "markdown",
   "metadata": {},
   "source": [
    "## 1.05 Creando un data.table a partir de las columnas"
   ]
  },
  {
   "cell_type": "markdown",
   "metadata": {},
   "source": [
    "Hasta ahora, para crear una data.table estamos leyendo un archivo del disco ( o bajándolo de internet)\n",
    "<bv>\n",
    " Ahora veremos como crearla a partir de dos vectores   "
   ]
  },
  {
   "cell_type": "code",
   "execution_count": 1,
   "metadata": {
    "vscode": {
     "languageId": "r"
    }
   },
   "outputs": [
    {
     "data": {
      "text/html": [
       "<table class=\"dataframe\">\n",
       "<caption>A matrix: 2 × 6 of type dbl</caption>\n",
       "<thead>\n",
       "\t<tr><th></th><th scope=col>used</th><th scope=col>(Mb)</th><th scope=col>gc trigger</th><th scope=col>(Mb)</th><th scope=col>max used</th><th scope=col>(Mb)</th></tr>\n",
       "</thead>\n",
       "<tbody>\n",
       "\t<tr><th scope=row>Ncells</th><td> 603967</td><td>32.3</td><td>1290864</td><td>69</td><td>1290864</td><td>69.0</td></tr>\n",
       "\t<tr><th scope=row>Vcells</th><td>1085476</td><td> 8.3</td><td>8388608</td><td>64</td><td>1632186</td><td>12.5</td></tr>\n",
       "</tbody>\n",
       "</table>\n"
      ],
      "text/latex": [
       "A matrix: 2 × 6 of type dbl\n",
       "\\begin{tabular}{r|llllll}\n",
       "  & used & (Mb) & gc trigger & (Mb) & max used & (Mb)\\\\\n",
       "\\hline\n",
       "\tNcells &  603967 & 32.3 & 1290864 & 69 & 1290864 & 69.0\\\\\n",
       "\tVcells & 1085476 &  8.3 & 8388608 & 64 & 1632186 & 12.5\\\\\n",
       "\\end{tabular}\n"
      ],
      "text/markdown": [
       "\n",
       "A matrix: 2 × 6 of type dbl\n",
       "\n",
       "| <!--/--> | used | (Mb) | gc trigger | (Mb) | max used | (Mb) |\n",
       "|---|---|---|---|---|---|---|\n",
       "| Ncells |  603967 | 32.3 | 1290864 | 69 | 1290864 | 69.0 |\n",
       "| Vcells | 1085476 |  8.3 | 8388608 | 64 | 1632186 | 12.5 |\n",
       "\n"
      ],
      "text/plain": [
       "       used    (Mb) gc trigger (Mb) max used (Mb)\n",
       "Ncells  603967 32.3 1290864    69   1290864  69.0\n",
       "Vcells 1085476  8.3 8388608    64   1632186  12.5"
      ]
     },
     "metadata": {},
     "output_type": "display_data"
    }
   ],
   "source": [
    "rm( list=ls())\n",
    "gc()\n",
    "\n",
    "library( \"data.table\")   #cargo la libreria  data.table\n",
    "\n",
    "options(repr.plot.width=20, repr.plot.height=10) \n",
    "setwd(\"C:\\\\Users\\\\PC\\\\Desktop\\\\Especializacion UBA\\\\DMEyF\\\\\")  #Aqui se debe poner la ruta de la PC local"
   ]
  },
  {
   "cell_type": "markdown",
   "metadata": {},
   "source": [
    "Supongamos que tengo dos vectores, uno con *numero_de_clente*  y otro con la decision de si a ese registro le envio o no estímulo\n",
    "<br>\n",
    "Importante :  ambos vectores tienen la misma longitud"
   ]
  },
  {
   "cell_type": "code",
   "execution_count": 2,
   "metadata": {
    "vscode": {
     "languageId": "r"
    }
   },
   "outputs": [],
   "source": [
    "vector_ids <-  c( 107, 228, 351, 468, 579)"
   ]
  },
  {
   "cell_type": "code",
   "execution_count": 3,
   "metadata": {
    "vscode": {
     "languageId": "r"
    }
   },
   "outputs": [
    {
     "data": {
      "text/html": [
       "<style>\n",
       ".list-inline {list-style: none; margin:0; padding: 0}\n",
       ".list-inline>li {display: inline-block}\n",
       ".list-inline>li:not(:last-child)::after {content: \"\\00b7\"; padding: 0 .5ex}\n",
       "</style>\n",
       "<ol class=list-inline><li>107</li><li>228</li><li>351</li><li>468</li><li>579</li></ol>\n"
      ],
      "text/latex": [
       "\\begin{enumerate*}\n",
       "\\item 107\n",
       "\\item 228\n",
       "\\item 351\n",
       "\\item 468\n",
       "\\item 579\n",
       "\\end{enumerate*}\n"
      ],
      "text/markdown": [
       "1. 107\n",
       "2. 228\n",
       "3. 351\n",
       "4. 468\n",
       "5. 579\n",
       "\n",
       "\n"
      ],
      "text/plain": [
       "[1] 107 228 351 468 579"
      ]
     },
     "metadata": {},
     "output_type": "display_data"
    }
   ],
   "source": [
    "vector_ids"
   ]
  },
  {
   "cell_type": "code",
   "execution_count": 4,
   "metadata": {
    "vscode": {
     "languageId": "r"
    }
   },
   "outputs": [],
   "source": [
    "vector_enviar  <-   c( 0, 1, 1, 0, 1 )"
   ]
  },
  {
   "cell_type": "code",
   "execution_count": 5,
   "metadata": {
    "vscode": {
     "languageId": "r"
    }
   },
   "outputs": [
    {
     "data": {
      "text/html": [
       "<style>\n",
       ".list-inline {list-style: none; margin:0; padding: 0}\n",
       ".list-inline>li {display: inline-block}\n",
       ".list-inline>li:not(:last-child)::after {content: \"\\00b7\"; padding: 0 .5ex}\n",
       "</style>\n",
       "<ol class=list-inline><li>107</li><li>228</li><li>351</li><li>468</li><li>579</li></ol>\n"
      ],
      "text/latex": [
       "\\begin{enumerate*}\n",
       "\\item 107\n",
       "\\item 228\n",
       "\\item 351\n",
       "\\item 468\n",
       "\\item 579\n",
       "\\end{enumerate*}\n"
      ],
      "text/markdown": [
       "1. 107\n",
       "2. 228\n",
       "3. 351\n",
       "4. 468\n",
       "5. 579\n",
       "\n",
       "\n"
      ],
      "text/plain": [
       "[1] 107 228 351 468 579"
      ]
     },
     "metadata": {},
     "output_type": "display_data"
    }
   ],
   "source": [
    "vector_ids"
   ]
  },
  {
   "cell_type": "markdown",
   "metadata": {},
   "source": [
    "finalmente creo un dataset a partir de las dos columnas\n",
    "<br>\n",
    "a la primer columna la voy a llamar  \"numero_de_cliente\"\n",
    "<bv>\n",
    "a la segunda columna la voy a llamar  \"Predicted\""
   ]
  },
  {
   "cell_type": "markdown",
   "metadata": {},
   "source": [
    "En el lenguaje R, un dataframe o data.table es una lista de columnas\n",
    "<br>\n",
    "es una lsita y no un vector, porque los vectores necesitan que todos los valores sean del mismo tipo de datos\n",
    "<br>\n",
    "pero un dataset puede tener columnas que sean vectores de numeros, vectores de cadenas de caracters (string)\n",
    "<br>\n",
    "en R,  exista el tipo  **list**  , para meter en  *una bolsa de gatos* objetos de distinto tipo"
   ]
  },
  {
   "cell_type": "code",
   "execution_count": 6,
   "metadata": {
    "vscode": {
     "languageId": "r"
    }
   },
   "outputs": [],
   "source": [
    "tabla_final  <-   as.data.table(  list(  \"numero_de_cliente\"= vector_ids,\n",
    "                                         \"Predicted\"=         vector_enviar))"
   ]
  },
  {
   "cell_type": "markdown",
   "metadata": {},
   "source": [
    "veo como qyuedó la nueva data.table"
   ]
  },
  {
   "cell_type": "code",
   "execution_count": 7,
   "metadata": {
    "vscode": {
     "languageId": "r"
    }
   },
   "outputs": [
    {
     "data": {
      "text/html": [
       "<table class=\"dataframe\">\n",
       "<caption>A data.table: 5 × 2</caption>\n",
       "<thead>\n",
       "\t<tr><th scope=col>numero_de_cliente</th><th scope=col>Predicted</th></tr>\n",
       "\t<tr><th scope=col>&lt;dbl&gt;</th><th scope=col>&lt;dbl&gt;</th></tr>\n",
       "</thead>\n",
       "<tbody>\n",
       "\t<tr><td>107</td><td>0</td></tr>\n",
       "\t<tr><td>228</td><td>1</td></tr>\n",
       "\t<tr><td>351</td><td>1</td></tr>\n",
       "\t<tr><td>468</td><td>0</td></tr>\n",
       "\t<tr><td>579</td><td>1</td></tr>\n",
       "</tbody>\n",
       "</table>\n"
      ],
      "text/latex": [
       "A data.table: 5 × 2\n",
       "\\begin{tabular}{ll}\n",
       " numero\\_de\\_cliente & Predicted\\\\\n",
       " <dbl> & <dbl>\\\\\n",
       "\\hline\n",
       "\t 107 & 0\\\\\n",
       "\t 228 & 1\\\\\n",
       "\t 351 & 1\\\\\n",
       "\t 468 & 0\\\\\n",
       "\t 579 & 1\\\\\n",
       "\\end{tabular}\n"
      ],
      "text/markdown": [
       "\n",
       "A data.table: 5 × 2\n",
       "\n",
       "| numero_de_cliente &lt;dbl&gt; | Predicted &lt;dbl&gt; |\n",
       "|---|---|\n",
       "| 107 | 0 |\n",
       "| 228 | 1 |\n",
       "| 351 | 1 |\n",
       "| 468 | 0 |\n",
       "| 579 | 1 |\n",
       "\n"
      ],
      "text/plain": [
       "  numero_de_cliente Predicted\n",
       "1 107               0        \n",
       "2 228               1        \n",
       "3 351               1        \n",
       "4 468               0        \n",
       "5 579               1        "
      ]
     },
     "metadata": {},
     "output_type": "display_data"
    }
   ],
   "source": [
    "tabla_final"
   ]
  },
  {
   "cell_type": "markdown",
   "metadata": {},
   "source": [
    "Finalmente,  grabo ese archivo con la instruccion  **fwrite**  que pertenece a la libreria  **data.table"
   ]
  },
  {
   "cell_type": "markdown",
   "metadata": {},
   "source": [
    "Cuando utilizamos la instruccion **fread** para leer una data.table , ella tiene la inteligencia de darse cuenta cual es el separador de campos\n",
    "<br>\n",
    "pero para grabar, necesitamos nosotros especificarle cual queremos que sea el separador de campos"
   ]
  },
  {
   "cell_type": "code",
   "execution_count": null,
   "metadata": {
    "vscode": {
     "languageId": "r"
    }
   },
   "outputs": [],
   "source": [
    "#genero el archivo para Kaggle\n",
    "#creo la carpeta donde va el experimento\n",
    "dir.create( \"./exp/\",  showWarnings = FALSE ) \n",
    "dir.create( \"./exp/ZH2015/\", showWarnings = FALSE )\n",
    "\n",
    "fwrite( tabla_final,\n",
    "        file= \"./exp/ZH2015/entrega_de_juguete.csv\",\n",
    "        sep= \",\")"
   ]
  },
  {
   "cell_type": "markdown",
   "metadata": {},
   "source": [
    "Revisar ahora que hay en la carpeta **/exp/ZH2015/** , editar el archvo  entrega_de juguete.txt\n",
    "<br>\n",
    "Este archivo de juguete dará error si se sube a Kaggle, fue solo de ejemplo"
   ]
  }
 ],
 "metadata": {
  "kernelspec": {
   "display_name": "R",
   "language": "R",
   "name": "ir"
  },
  "language_info": {
   "codemirror_mode": "r",
   "file_extension": ".r",
   "mimetype": "text/x-r-source",
   "name": "R",
   "pygments_lexer": "r",
   "version": "4.2.1"
  }
 },
 "nbformat": 4,
 "nbformat_minor": 4
}
