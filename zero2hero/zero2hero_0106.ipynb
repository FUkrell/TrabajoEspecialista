{
 "cells": [
  {
   "cell_type": "markdown",
   "metadata": {},
   "source": [
    "# Zero to Hero"
   ]
  },
  {
   "cell_type": "markdown",
   "metadata": {},
   "source": [
    "## 1.06 Hackeando Kaggle"
   ]
  },
  {
   "cell_type": "markdown",
   "metadata": {},
   "source": [
    "Voy a **hackear** Kaggle  para descubrir cuantos  \"BAJA+2\"  hay en el mes 202101, que es donde  *no* tengo la clase"
   ]
  },
  {
   "cell_type": "markdown",
   "metadata": {},
   "source": [
    "La idea es subir a Kaggle una prediccion que tenga TODOS 1,  que se le envíe estímulo a todos\n",
    "<br>\n",
    "Es obvio que esa prediccion va a dar una pésima ganancia\n",
    "<br>\n",
    "Pero me va a permitir tener un sistema de dos ecuaciones con dos incognitas, y despejando tendre la cantidad de BAJA+2 que hay en los datos del futuro"
   ]
  },
  {
   "cell_type": "code",
   "execution_count": 1,
   "metadata": {
    "vscode": {
     "languageId": "r"
    }
   },
   "outputs": [
    {
     "data": {
      "text/html": [
       "<table class=\"dataframe\">\n",
       "<caption>A matrix: 2 × 6 of type dbl</caption>\n",
       "<thead>\n",
       "\t<tr><th></th><th scope=col>used</th><th scope=col>(Mb)</th><th scope=col>gc trigger</th><th scope=col>(Mb)</th><th scope=col>max used</th><th scope=col>(Mb)</th></tr>\n",
       "</thead>\n",
       "<tbody>\n",
       "\t<tr><th scope=row>Ncells</th><td> 603996</td><td>32.3</td><td>1290832</td><td>69</td><td>1290832</td><td>69.0</td></tr>\n",
       "\t<tr><th scope=row>Vcells</th><td>1085665</td><td> 8.3</td><td>8388608</td><td>64</td><td>1632186</td><td>12.5</td></tr>\n",
       "</tbody>\n",
       "</table>\n"
      ],
      "text/latex": [
       "A matrix: 2 × 6 of type dbl\n",
       "\\begin{tabular}{r|llllll}\n",
       "  & used & (Mb) & gc trigger & (Mb) & max used & (Mb)\\\\\n",
       "\\hline\n",
       "\tNcells &  603996 & 32.3 & 1290832 & 69 & 1290832 & 69.0\\\\\n",
       "\tVcells & 1085665 &  8.3 & 8388608 & 64 & 1632186 & 12.5\\\\\n",
       "\\end{tabular}\n"
      ],
      "text/markdown": [
       "\n",
       "A matrix: 2 × 6 of type dbl\n",
       "\n",
       "| <!--/--> | used | (Mb) | gc trigger | (Mb) | max used | (Mb) |\n",
       "|---|---|---|---|---|---|---|\n",
       "| Ncells |  603996 | 32.3 | 1290832 | 69 | 1290832 | 69.0 |\n",
       "| Vcells | 1085665 |  8.3 | 8388608 | 64 | 1632186 | 12.5 |\n",
       "\n"
      ],
      "text/plain": [
       "       used    (Mb) gc trigger (Mb) max used (Mb)\n",
       "Ncells  603996 32.3 1290832    69   1290832  69.0\n",
       "Vcells 1085665  8.3 8388608    64   1632186  12.5"
      ]
     },
     "metadata": {},
     "output_type": "display_data"
    }
   ],
   "source": [
    "rm( list=ls())\n",
    "gc()\n",
    "\n",
    "library( \"data.table\")   #cargo la libreria  data.table\n",
    "library( \"rpart\")  #cargo la libreria  rpart\n",
    "library( \"rpart.plot\")\n",
    "\n",
    "options(repr.plot.width=20, repr.plot.height=10) \n",
    "setwd(\"C:\\\\Users\\\\PC\\\\Desktop\\\\Especializacion UBA\\\\DMEyF\\\\\")  #Aqui se debe poner la ruta de la PC local"
   ]
  },
  {
   "cell_type": "markdown",
   "metadata": {},
   "source": [
    "Leo el dataset"
   ]
  },
  {
   "cell_type": "code",
   "execution_count": 2,
   "metadata": {
    "vscode": {
     "languageId": "r"
    }
   },
   "outputs": [],
   "source": [
    "dataset <- fread(\"./datasets/competencia1_2022.csv\")   #cargo el dataset"
   ]
  },
  {
   "cell_type": "markdown",
   "metadata": {},
   "source": [
    "Cuento la clase"
   ]
  },
  {
   "cell_type": "code",
   "execution_count": 3,
   "metadata": {
    "vscode": {
     "languageId": "r"
    }
   },
   "outputs": [
    {
     "data": {
      "text/html": [
       "<table class=\"dataframe\">\n",
       "<caption>A data.table: 4 × 3</caption>\n",
       "<thead>\n",
       "\t<tr><th scope=col>foto_mes</th><th scope=col>clase_ternaria</th><th scope=col>N</th></tr>\n",
       "\t<tr><th scope=col>&lt;int&gt;</th><th scope=col>&lt;chr&gt;</th><th scope=col>&lt;int&gt;</th></tr>\n",
       "</thead>\n",
       "<tbody>\n",
       "\t<tr><td>202101</td><td>CONTINUA</td><td>159828</td></tr>\n",
       "\t<tr><td>202101</td><td>BAJA+1  </td><td>   664</td></tr>\n",
       "\t<tr><td>202101</td><td>BAJA+2  </td><td>   850</td></tr>\n",
       "\t<tr><td>202103</td><td>        </td><td>162900</td></tr>\n",
       "</tbody>\n",
       "</table>\n"
      ],
      "text/latex": [
       "A data.table: 4 × 3\n",
       "\\begin{tabular}{lll}\n",
       " foto\\_mes & clase\\_ternaria & N\\\\\n",
       " <int> & <chr> & <int>\\\\\n",
       "\\hline\n",
       "\t 202101 & CONTINUA & 159828\\\\\n",
       "\t 202101 & BAJA+1   &    664\\\\\n",
       "\t 202101 & BAJA+2   &    850\\\\\n",
       "\t 202103 &          & 162900\\\\\n",
       "\\end{tabular}\n"
      ],
      "text/markdown": [
       "\n",
       "A data.table: 4 × 3\n",
       "\n",
       "| foto_mes &lt;int&gt; | clase_ternaria &lt;chr&gt; | N &lt;int&gt; |\n",
       "|---|---|---|\n",
       "| 202101 | CONTINUA | 159828 |\n",
       "| 202101 | BAJA+1   |    664 |\n",
       "| 202101 | BAJA+2   |    850 |\n",
       "| 202103 | <!----> | 162900 |\n",
       "\n"
      ],
      "text/plain": [
       "  foto_mes clase_ternaria N     \n",
       "1 202101   CONTINUA       159828\n",
       "2 202101   BAJA+1            664\n",
       "3 202101   BAJA+2            850\n",
       "4 202103                  162900"
      ]
     },
     "metadata": {},
     "output_type": "display_data"
    }
   ],
   "source": [
    "dataset[  , .N, list( foto_mes, clase_ternaria) ]"
   ]
  },
  {
   "cell_type": "markdown",
   "metadata": {},
   "source": [
    "Defino  el data.table  dfuturo que va a tener solo los datos de  202103"
   ]
  },
  {
   "cell_type": "code",
   "execution_count": 4,
   "metadata": {
    "vscode": {
     "languageId": "r"
    }
   },
   "outputs": [],
   "source": [
    "dfuturo <-  dataset[ foto_mes==202103 ]"
   ]
  },
  {
   "cell_type": "markdown",
   "metadata": {},
   "source": [
    "cuento la cantidad de lineas del dataset"
   ]
  },
  {
   "cell_type": "code",
   "execution_count": 5,
   "metadata": {
    "vscode": {
     "languageId": "r"
    }
   },
   "outputs": [
    {
     "data": {
      "text/html": [
       "162900"
      ],
      "text/latex": [
       "162900"
      ],
      "text/markdown": [
       "162900"
      ],
      "text/plain": [
       "[1] 162900"
      ]
     },
     "metadata": {},
     "output_type": "display_data"
    }
   ],
   "source": [
    "nrow( dfuturo )"
   ]
  },
  {
   "cell_type": "markdown",
   "metadata": {},
   "source": [
    "Creo un vector que sean los  ids"
   ]
  },
  {
   "cell_type": "code",
   "execution_count": 6,
   "metadata": {
    "vscode": {
     "languageId": "r"
    }
   },
   "outputs": [],
   "source": [
    "vector_ids  <-   dfuturo[ , numero_de_cliente]"
   ]
  },
  {
   "cell_type": "code",
   "execution_count": 7,
   "metadata": {
    "vscode": {
     "languageId": "r"
    }
   },
   "outputs": [
    {
     "data": {
      "text/html": [
       "<style>\n",
       ".list-inline {list-style: none; margin:0; padding: 0}\n",
       ".list-inline>li {display: inline-block}\n",
       ".list-inline>li:not(:last-child)::after {content: \"\\00b7\"; padding: 0 .5ex}\n",
       "</style>\n",
       "<ol class=list-inline><li>31115668</li><li>31115678</li><li>31117415</li><li>31117711</li><li>31118145</li><li>31118204</li></ol>\n"
      ],
      "text/latex": [
       "\\begin{enumerate*}\n",
       "\\item 31115668\n",
       "\\item 31115678\n",
       "\\item 31117415\n",
       "\\item 31117711\n",
       "\\item 31118145\n",
       "\\item 31118204\n",
       "\\end{enumerate*}\n"
      ],
      "text/markdown": [
       "1. 31115668\n",
       "2. 31115678\n",
       "3. 31117415\n",
       "4. 31117711\n",
       "5. 31118145\n",
       "6. 31118204\n",
       "\n",
       "\n"
      ],
      "text/plain": [
       "[1] 31115668 31115678 31117415 31117711 31118145 31118204"
      ]
     },
     "metadata": {},
     "output_type": "display_data"
    }
   ],
   "source": [
    "head( vector_ids)"
   ]
  },
  {
   "cell_type": "markdown",
   "metadata": {},
   "source": [
    "Creo un vector de todos unos, con la cantidad de registros que tiene dfuturo\n",
    "<br>\n",
    "utilizo la instruccion  **rep()**  de R  https://www.rdocumentation.org/packages/base/versions/3.6.2/topics/rep"
   ]
  },
  {
   "cell_type": "code",
   "execution_count": 8,
   "metadata": {
    "vscode": {
     "languageId": "r"
    }
   },
   "outputs": [],
   "source": [
    "vector_enviar <-  rep( 1,  nrow( dfuturo))"
   ]
  },
  {
   "cell_type": "code",
   "execution_count": 9,
   "metadata": {
    "vscode": {
     "languageId": "r"
    }
   },
   "outputs": [
    {
     "data": {
      "text/html": [
       "<style>\n",
       ".list-inline {list-style: none; margin:0; padding: 0}\n",
       ".list-inline>li {display: inline-block}\n",
       ".list-inline>li:not(:last-child)::after {content: \"\\00b7\"; padding: 0 .5ex}\n",
       "</style>\n",
       "<ol class=list-inline><li>1</li><li>1</li><li>1</li><li>1</li><li>1</li><li>1</li></ol>\n"
      ],
      "text/latex": [
       "\\begin{enumerate*}\n",
       "\\item 1\n",
       "\\item 1\n",
       "\\item 1\n",
       "\\item 1\n",
       "\\item 1\n",
       "\\item 1\n",
       "\\end{enumerate*}\n"
      ],
      "text/markdown": [
       "1. 1\n",
       "2. 1\n",
       "3. 1\n",
       "4. 1\n",
       "5. 1\n",
       "6. 1\n",
       "\n",
       "\n"
      ],
      "text/plain": [
       "[1] 1 1 1 1 1 1"
      ]
     },
     "metadata": {},
     "output_type": "display_data"
    }
   ],
   "source": [
    "head( vector_enviar )"
   ]
  },
  {
   "cell_type": "code",
   "execution_count": 10,
   "metadata": {
    "vscode": {
     "languageId": "r"
    }
   },
   "outputs": [
    {
     "data": {
      "text/html": [
       "162900"
      ],
      "text/latex": [
       "162900"
      ],
      "text/markdown": [
       "162900"
      ],
      "text/plain": [
       "[1] 162900"
      ]
     },
     "metadata": {},
     "output_type": "display_data"
    }
   ],
   "source": [
    "length( vector_enviar)"
   ]
  },
  {
   "cell_type": "markdown",
   "metadata": {},
   "source": [
    "Excelente, tiene tantos unos como registros tiene dfuturo"
   ]
  },
  {
   "cell_type": "markdown",
   "metadata": {},
   "source": [
    "creo una tabla con  lo que voy a enviar a Kaggle"
   ]
  },
  {
   "cell_type": "code",
   "execution_count": 11,
   "metadata": {
    "vscode": {
     "languageId": "r"
    }
   },
   "outputs": [],
   "source": [
    "tabla_final  <-   as.data.table(  list(  \"numero_de_cliente\"= vector_ids,\n",
    "                                         \"Predicted\"=         vector_enviar))"
   ]
  },
  {
   "cell_type": "code",
   "execution_count": 12,
   "metadata": {
    "vscode": {
     "languageId": "r"
    }
   },
   "outputs": [
    {
     "data": {
      "text/html": [
       "<table class=\"dataframe\">\n",
       "<caption>A data.table: 6 × 2</caption>\n",
       "<thead>\n",
       "\t<tr><th scope=col>numero_de_cliente</th><th scope=col>Predicted</th></tr>\n",
       "\t<tr><th scope=col>&lt;int&gt;</th><th scope=col>&lt;dbl&gt;</th></tr>\n",
       "</thead>\n",
       "<tbody>\n",
       "\t<tr><td>31115668</td><td>1</td></tr>\n",
       "\t<tr><td>31115678</td><td>1</td></tr>\n",
       "\t<tr><td>31117415</td><td>1</td></tr>\n",
       "\t<tr><td>31117711</td><td>1</td></tr>\n",
       "\t<tr><td>31118145</td><td>1</td></tr>\n",
       "\t<tr><td>31118204</td><td>1</td></tr>\n",
       "</tbody>\n",
       "</table>\n"
      ],
      "text/latex": [
       "A data.table: 6 × 2\n",
       "\\begin{tabular}{ll}\n",
       " numero\\_de\\_cliente & Predicted\\\\\n",
       " <int> & <dbl>\\\\\n",
       "\\hline\n",
       "\t 31115668 & 1\\\\\n",
       "\t 31115678 & 1\\\\\n",
       "\t 31117415 & 1\\\\\n",
       "\t 31117711 & 1\\\\\n",
       "\t 31118145 & 1\\\\\n",
       "\t 31118204 & 1\\\\\n",
       "\\end{tabular}\n"
      ],
      "text/markdown": [
       "\n",
       "A data.table: 6 × 2\n",
       "\n",
       "| numero_de_cliente &lt;int&gt; | Predicted &lt;dbl&gt; |\n",
       "|---|---|\n",
       "| 31115668 | 1 |\n",
       "| 31115678 | 1 |\n",
       "| 31117415 | 1 |\n",
       "| 31117711 | 1 |\n",
       "| 31118145 | 1 |\n",
       "| 31118204 | 1 |\n",
       "\n"
      ],
      "text/plain": [
       "  numero_de_cliente Predicted\n",
       "1 31115668          1        \n",
       "2 31115678          1        \n",
       "3 31117415          1        \n",
       "4 31117711          1        \n",
       "5 31118145          1        \n",
       "6 31118204          1        "
      ]
     },
     "metadata": {},
     "output_type": "display_data"
    }
   ],
   "source": [
    "head( tabla_final)"
   ]
  },
  {
   "cell_type": "code",
   "execution_count": null,
   "metadata": {
    "vscode": {
     "languageId": "r"
    }
   },
   "outputs": [],
   "source": [
    "#genero el archivo para Kaggle\n",
    "#creo la carpeta donde va el experimento\n",
    "dir.create( \"./exp/\",  showWarnings = FALSE ) \n",
    "dir.create( \"./exp/ZH2016/\", showWarnings = FALSE )\n",
    "\n",
    "#genero el archivo para Kaggle\n",
    "fwrite(tabla_final, \n",
    "        file= \"./exp/ZH2016/todos_unos.csv\",\n",
    "        sep=  \",\" )"
   ]
  },
  {
   "cell_type": "markdown",
   "metadata": {},
   "source": [
    "Subo el archivo a Kaggle y me fijo cuanta ganancia me da en el Public Leaderboard"
   ]
  },
  {
   "cell_type": "markdown",
   "metadata": {},
   "source": [
    "da una ganancia de **-249001.57**   ( menos 249 millones )"
   ]
  },
  {
   "cell_type": "markdown",
   "metadata": {},
   "source": [
    "### el hackeo"
   ]
  },
  {
   "cell_type": "markdown",
   "metadata": {},
   "source": [
    "Ahora pasamos a calcular la cantidad de BAJA+2  que hay en los datos de enero-2021,  hackeamos Kaggle"
   ]
  },
  {
   "cell_type": "markdown",
   "metadata": {},
   "source": [
    "Tengo dos incognitas, por un lado lo que llamo POS , los positivos, las \"BAJA+2\"\n",
    "<br>\n",
    "Por otro lado, lo que llamo NEG, los negativos,  los \"BAJA+1\" y \"CONTINUA\""
   ]
  },
  {
   "cell_type": "markdown",
   "metadata": {},
   "source": [
    "Se que se cumplen estas dos cosas:\n",
    "* POS + NEG = 162900\n",
    "* 78000\\*POS - 2000\\*NEG =-249001570"
   ]
  },
  {
   "cell_type": "markdown",
   "metadata": {},
   "source": [
    "Es un sistema de dos ecuaciones con dos incógnitas, has multiples formas de resolverlo, la primera sería despejar POS.\n",
    "<br>\n",
    "pero utilizamos esta página  https://keisan.casio.com/exec/system/14013211335541"
   ]
  },
  {
   "cell_type": "markdown",
   "metadata": {},
   "source": [
    "Al correrlo obtenemos que  POS = 960 , o sea **las BAJA+2  de 202103  son  960**"
   ]
  },
  {
   "cell_type": "markdown",
   "metadata": {},
   "source": [
    "¿Qué nos dicen estas 960 BAJA+2 de marzo del 2021? ¿Explican algo?\n",
    "<br>\n",
    "Las BAJA+2 que hay en enero del 2021 son  850\n",
    "<br>\n",
    "960 > 850\n",
    "<br>\n",
    "Con lo cual es de esperar mayores ganancias de los modelos predictivos en 202103  que en 202101,  va a irnos mejor en el Public Leaderboard que en nuestros modelos."
   ]
  }
 ],
 "metadata": {
  "kernelspec": {
   "display_name": "R",
   "language": "R",
   "name": "ir"
  },
  "language_info": {
   "codemirror_mode": "r",
   "file_extension": ".r",
   "mimetype": "text/x-r-source",
   "name": "R",
   "pygments_lexer": "r",
   "version": "4.2.1"
  }
 },
 "nbformat": 4,
 "nbformat_minor": 4
}
