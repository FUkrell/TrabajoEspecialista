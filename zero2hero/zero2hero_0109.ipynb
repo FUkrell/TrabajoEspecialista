{
 "cells": [
  {
   "cell_type": "markdown",
   "metadata": {},
   "source": [
    "# Zero to Hero"
   ]
  },
  {
   "cell_type": "markdown",
   "metadata": {},
   "source": [
    "## 1.09 Dividir en Training y Testing\n",
    "## version libreria caret"
   ]
  },
  {
   "cell_type": "markdown",
   "metadata": {},
   "source": [
    "El objetivo es hacer una division del dataset en training/testing que sea estratificada en la clase\n",
    "<br>\n",
    "https://es.wikipedia.org/wiki/Muestreo_estratificado"
   ]
  },
  {
   "cell_type": "code",
   "execution_count": 1,
   "metadata": {
    "vscode": {
     "languageId": "r"
    }
   },
   "outputs": [
    {
     "data": {
      "text/html": [
       "<table class=\"dataframe\">\n",
       "<caption>A matrix: 2 × 6 of type dbl</caption>\n",
       "<thead>\n",
       "\t<tr><th></th><th scope=col>used</th><th scope=col>(Mb)</th><th scope=col>gc trigger</th><th scope=col>(Mb)</th><th scope=col>max used</th><th scope=col>(Mb)</th></tr>\n",
       "</thead>\n",
       "<tbody>\n",
       "\t<tr><th scope=row>Ncells</th><td> 604002</td><td>32.3</td><td>1290864</td><td>69</td><td>1290864</td><td>69.0</td></tr>\n",
       "\t<tr><th scope=row>Vcells</th><td>1085674</td><td> 8.3</td><td>8388608</td><td>64</td><td>1632186</td><td>12.5</td></tr>\n",
       "</tbody>\n",
       "</table>\n"
      ],
      "text/latex": [
       "A matrix: 2 × 6 of type dbl\n",
       "\\begin{tabular}{r|llllll}\n",
       "  & used & (Mb) & gc trigger & (Mb) & max used & (Mb)\\\\\n",
       "\\hline\n",
       "\tNcells &  604002 & 32.3 & 1290864 & 69 & 1290864 & 69.0\\\\\n",
       "\tVcells & 1085674 &  8.3 & 8388608 & 64 & 1632186 & 12.5\\\\\n",
       "\\end{tabular}\n"
      ],
      "text/markdown": [
       "\n",
       "A matrix: 2 × 6 of type dbl\n",
       "\n",
       "| <!--/--> | used | (Mb) | gc trigger | (Mb) | max used | (Mb) |\n",
       "|---|---|---|---|---|---|---|\n",
       "| Ncells |  604002 | 32.3 | 1290864 | 69 | 1290864 | 69.0 |\n",
       "| Vcells | 1085674 |  8.3 | 8388608 | 64 | 1632186 | 12.5 |\n",
       "\n"
      ],
      "text/plain": [
       "       used    (Mb) gc trigger (Mb) max used (Mb)\n",
       "Ncells  604002 32.3 1290864    69   1290864  69.0\n",
       "Vcells 1085674  8.3 8388608    64   1632186  12.5"
      ]
     },
     "metadata": {},
     "output_type": "display_data"
    }
   ],
   "source": [
    "rm( list=ls())\n",
    "gc()\n",
    "\n",
    "library( \"data.table\")   #cargo la libreria  data.table\n",
    "library( \"rpart\")  #cargo la libreria  rpart\n",
    "library( \"rpart.plot\")\n",
    "\n",
    "options(repr.plot.width=20, repr.plot.height=10) \n",
    "setwd(\"C:\\\\Users\\\\PC\\\\Desktop\\\\Especializacion UBA\\\\DMEyF\\\\\")  #Aqui se debe poner la ruta de la PC local"
   ]
  },
  {
   "cell_type": "code",
   "execution_count": 2,
   "metadata": {
    "vscode": {
     "languageId": "r"
    }
   },
   "outputs": [],
   "source": [
    "dataset <- fread(\"./datasets/competencia1_2022.csv\")   #cargo el dataset #cargo el dataset\n",
    "denero <- dataset[ foto_mes==202101 ]"
   ]
  },
  {
   "cell_type": "code",
   "execution_count": 7,
   "metadata": {
    "vscode": {
     "languageId": "r"
    }
   },
   "outputs": [
    {
     "name": "stderr",
     "output_type": "stream",
     "text": [
      "Installing package into 'C:/Users/PC/AppData/Local/R/win-library/4.2'\n",
      "(as 'lib' is unspecified)\n",
      "\n",
      "also installing the dependencies 'progress', 'listenv', 'parallelly', 'vroom', 'tzdb', 'future', 'globals', 'forcats', 'hms', 'readr', 'bitops', 'future.apply', 'progressr', 'numDeriv', 'SQUAREM', 'haven', 'caTools', 'profileModel', 'minqa', 'nloptr', 'plotrix', 'lava', 'labelled', 'gplots', 'libcoin', 'matrixStats', 'iterators', 'gower', 'hardhat', 'lubridate', 'tidyr', 'timeDate', 'brglm', 'gtools', 'lme4', 'qvcalc', 'plotmo', 'TeachingDemos', 'prodlim', 'combinat', 'questionr', 'ROCR', 'modeltools', 'strucchange', 'coin', 'ISwR', 'corpcor', 'ROSE', 'foreach', 'ModelMetrics', 'plyr', 'pROC', 'recipes', 'reshape2', 'BradleyTerry2', 'Cubist', 'earth', 'ellipse', 'fastICA', 'gam', 'ipred', 'kernlab', 'klaR', 'mda', 'mlbench', 'MLmetrics', 'pamr', 'party', 'pls', 'randomForest', 'RANN', 'spls', 'subselect', 'superpc', 'themis'\n",
      "\n",
      "\n"
     ]
    },
    {
     "name": "stdout",
     "output_type": "stream",
     "text": [
      "package 'progress' successfully unpacked and MD5 sums checked\n",
      "package 'listenv' successfully unpacked and MD5 sums checked\n",
      "package 'parallelly' successfully unpacked and MD5 sums checked\n",
      "package 'vroom' successfully unpacked and MD5 sums checked\n",
      "package 'tzdb' successfully unpacked and MD5 sums checked\n",
      "package 'future' successfully unpacked and MD5 sums checked\n",
      "package 'globals' successfully unpacked and MD5 sums checked\n",
      "package 'forcats' successfully unpacked and MD5 sums checked\n",
      "package 'hms' successfully unpacked and MD5 sums checked\n",
      "package 'readr' successfully unpacked and MD5 sums checked\n",
      "package 'bitops' successfully unpacked and MD5 sums checked\n",
      "package 'future.apply' successfully unpacked and MD5 sums checked\n",
      "package 'progressr' successfully unpacked and MD5 sums checked\n",
      "package 'numDeriv' successfully unpacked and MD5 sums checked\n",
      "package 'SQUAREM' successfully unpacked and MD5 sums checked\n",
      "package 'haven' successfully unpacked and MD5 sums checked\n",
      "package 'caTools' successfully unpacked and MD5 sums checked\n",
      "package 'profileModel' successfully unpacked and MD5 sums checked\n",
      "package 'minqa' successfully unpacked and MD5 sums checked\n",
      "package 'nloptr' successfully unpacked and MD5 sums checked\n",
      "package 'plotrix' successfully unpacked and MD5 sums checked\n",
      "package 'lava' successfully unpacked and MD5 sums checked\n",
      "package 'labelled' successfully unpacked and MD5 sums checked\n",
      "package 'gplots' successfully unpacked and MD5 sums checked\n",
      "package 'libcoin' successfully unpacked and MD5 sums checked\n",
      "package 'matrixStats' successfully unpacked and MD5 sums checked\n",
      "package 'iterators' successfully unpacked and MD5 sums checked\n",
      "package 'gower' successfully unpacked and MD5 sums checked\n",
      "package 'hardhat' successfully unpacked and MD5 sums checked\n",
      "package 'lubridate' successfully unpacked and MD5 sums checked\n",
      "package 'tidyr' successfully unpacked and MD5 sums checked\n",
      "package 'timeDate' successfully unpacked and MD5 sums checked\n",
      "package 'brglm' successfully unpacked and MD5 sums checked\n",
      "package 'gtools' successfully unpacked and MD5 sums checked\n",
      "package 'lme4' successfully unpacked and MD5 sums checked\n",
      "package 'qvcalc' successfully unpacked and MD5 sums checked\n",
      "package 'plotmo' successfully unpacked and MD5 sums checked\n",
      "package 'TeachingDemos' successfully unpacked and MD5 sums checked\n",
      "package 'prodlim' successfully unpacked and MD5 sums checked\n",
      "package 'combinat' successfully unpacked and MD5 sums checked\n",
      "package 'questionr' successfully unpacked and MD5 sums checked\n",
      "package 'ROCR' successfully unpacked and MD5 sums checked\n",
      "package 'modeltools' successfully unpacked and MD5 sums checked\n",
      "package 'strucchange' successfully unpacked and MD5 sums checked\n",
      "package 'coin' successfully unpacked and MD5 sums checked\n",
      "package 'ISwR' successfully unpacked and MD5 sums checked\n",
      "package 'corpcor' successfully unpacked and MD5 sums checked\n",
      "package 'ROSE' successfully unpacked and MD5 sums checked\n",
      "package 'foreach' successfully unpacked and MD5 sums checked\n",
      "package 'ModelMetrics' successfully unpacked and MD5 sums checked\n",
      "package 'plyr' successfully unpacked and MD5 sums checked\n",
      "package 'pROC' successfully unpacked and MD5 sums checked\n",
      "package 'recipes' successfully unpacked and MD5 sums checked\n",
      "package 'reshape2' successfully unpacked and MD5 sums checked\n",
      "package 'BradleyTerry2' successfully unpacked and MD5 sums checked\n",
      "package 'Cubist' successfully unpacked and MD5 sums checked\n",
      "package 'earth' successfully unpacked and MD5 sums checked\n",
      "package 'ellipse' successfully unpacked and MD5 sums checked\n",
      "package 'fastICA' successfully unpacked and MD5 sums checked\n",
      "package 'gam' successfully unpacked and MD5 sums checked\n",
      "package 'ipred' successfully unpacked and MD5 sums checked\n",
      "package 'kernlab' successfully unpacked and MD5 sums checked\n",
      "package 'klaR' successfully unpacked and MD5 sums checked\n",
      "package 'mda' successfully unpacked and MD5 sums checked\n",
      "package 'mlbench' successfully unpacked and MD5 sums checked\n",
      "package 'MLmetrics' successfully unpacked and MD5 sums checked\n",
      "package 'pamr' successfully unpacked and MD5 sums checked\n",
      "package 'party' successfully unpacked and MD5 sums checked\n",
      "package 'pls' successfully unpacked and MD5 sums checked\n",
      "package 'randomForest' successfully unpacked and MD5 sums checked\n",
      "package 'RANN' successfully unpacked and MD5 sums checked\n",
      "package 'spls' successfully unpacked and MD5 sums checked\n",
      "package 'subselect' successfully unpacked and MD5 sums checked\n",
      "package 'superpc' successfully unpacked and MD5 sums checked\n",
      "package 'themis' successfully unpacked and MD5 sums checked\n",
      "package 'caret' successfully unpacked and MD5 sums checked\n",
      "\n",
      "The downloaded binary packages are in\n",
      "\tC:\\Users\\PC\\AppData\\Local\\Temp\\RtmpaaBOM8\\downloaded_packages\n"
     ]
    }
   ],
   "source": [
    "install.packages('caret', dependencies = TRUE)"
   ]
  },
  {
   "cell_type": "code",
   "execution_count": 3,
   "metadata": {
    "vscode": {
     "languageId": "r"
    }
   },
   "outputs": [
    {
     "name": "stderr",
     "output_type": "stream",
     "text": [
      "Loading required package: ggplot2\n",
      "\n",
      "Loading required package: lattice\n",
      "\n"
     ]
    }
   ],
   "source": [
    "library(\"caret\")"
   ]
  },
  {
   "cell_type": "markdown",
   "metadata": {},
   "source": [
    "https://www.rdocumentation.org/packages/caret/versions/6.0-88/topics/createDataPartition\n",
    "<br>\n",
    "la funcion  **createDataPartition** devolverá un vector de posiciones, las que cumplen con la particion indicada\n",
    "<br>\n",
    "*p= 0.5* significa que queremos el 50% de los registros\n",
    "<br>\n",
    "*dataset$clase_ternaria*   es el vector con la clase ternaria, que es por donde se estratificará\n",
    "<br>"
   ]
  },
  {
   "cell_type": "code",
   "execution_count": 4,
   "metadata": {
    "vscode": {
     "languageId": "r"
    }
   },
   "outputs": [],
   "source": [
    "train_rows <- createDataPartition(denero$clase_ternaria, p= 0.50, list= FALSE)"
   ]
  },
  {
   "cell_type": "markdown",
   "metadata": {},
   "source": [
    "veamos que ha quedado en  los primeros registros del vector **train_rows**"
   ]
  },
  {
   "cell_type": "code",
   "execution_count": 5,
   "metadata": {
    "vscode": {
     "languageId": "r"
    }
   },
   "outputs": [
    {
     "data": {
      "text/html": [
       "<table class=\"dataframe\">\n",
       "<caption>A matrix: 6 × 1 of type int</caption>\n",
       "<thead>\n",
       "\t<tr><th scope=col>Resample1</th></tr>\n",
       "</thead>\n",
       "<tbody>\n",
       "\t<tr><td>1</td></tr>\n",
       "\t<tr><td>2</td></tr>\n",
       "\t<tr><td>4</td></tr>\n",
       "\t<tr><td>5</td></tr>\n",
       "\t<tr><td>6</td></tr>\n",
       "\t<tr><td>7</td></tr>\n",
       "</tbody>\n",
       "</table>\n"
      ],
      "text/latex": [
       "A matrix: 6 × 1 of type int\n",
       "\\begin{tabular}{l}\n",
       " Resample1\\\\\n",
       "\\hline\n",
       "\t 1\\\\\n",
       "\t 2\\\\\n",
       "\t 4\\\\\n",
       "\t 5\\\\\n",
       "\t 6\\\\\n",
       "\t 7\\\\\n",
       "\\end{tabular}\n"
      ],
      "text/markdown": [
       "\n",
       "A matrix: 6 × 1 of type int\n",
       "\n",
       "| Resample1 |\n",
       "|---|\n",
       "| 1 |\n",
       "| 2 |\n",
       "| 4 |\n",
       "| 5 |\n",
       "| 6 |\n",
       "| 7 |\n",
       "\n"
      ],
      "text/plain": [
       "     Resample1\n",
       "[1,] 1        \n",
       "[2,] 2        \n",
       "[3,] 4        \n",
       "[4,] 5        \n",
       "[5,] 6        \n",
       "[6,] 7        "
      ]
     },
     "metadata": {},
     "output_type": "display_data"
    }
   ],
   "source": [
    "head( train_rows )"
   ]
  },
  {
   "cell_type": "markdown",
   "metadata": {},
   "source": [
    "Aqui ya vemos que la particion tiene un suconjunto de los registros"
   ]
  },
  {
   "cell_type": "markdown",
   "metadata": {},
   "source": [
    "ahora creamos los datasets de training y testing"
   ]
  },
  {
   "cell_type": "code",
   "execution_count": 6,
   "metadata": {
    "vscode": {
     "languageId": "r"
    }
   },
   "outputs": [],
   "source": [
    "dtrain <- denero[ train_rows]"
   ]
  },
  {
   "cell_type": "markdown",
   "metadata": {},
   "source": [
    "-train_rows  significa el complemento  (no confundir con numeros negativos)"
   ]
  },
  {
   "cell_type": "code",
   "execution_count": 7,
   "metadata": {
    "vscode": {
     "languageId": "r"
    }
   },
   "outputs": [],
   "source": [
    "dtest <- denero[ -train_rows]"
   ]
  },
  {
   "cell_type": "markdown",
   "metadata": {},
   "source": [
    "Compruebo la division"
   ]
  },
  {
   "cell_type": "code",
   "execution_count": 8,
   "metadata": {
    "vscode": {
     "languageId": "r"
    }
   },
   "outputs": [
    {
     "data": {
      "text/html": [
       "80671"
      ],
      "text/latex": [
       "80671"
      ],
      "text/markdown": [
       "80671"
      ],
      "text/plain": [
       "[1] 80671"
      ]
     },
     "metadata": {},
     "output_type": "display_data"
    },
    {
     "data": {
      "text/html": [
       "80671"
      ],
      "text/latex": [
       "80671"
      ],
      "text/markdown": [
       "80671"
      ],
      "text/plain": [
       "[1] 80671"
      ]
     },
     "metadata": {},
     "output_type": "display_data"
    },
    {
     "data": {
      "text/html": [
       "161342"
      ],
      "text/latex": [
       "161342"
      ],
      "text/markdown": [
       "161342"
      ],
      "text/plain": [
       "[1] 161342"
      ]
     },
     "metadata": {},
     "output_type": "display_data"
    },
    {
     "data": {
      "text/html": [
       "161342"
      ],
      "text/latex": [
       "161342"
      ],
      "text/markdown": [
       "161342"
      ],
      "text/plain": [
       "[1] 161342"
      ]
     },
     "metadata": {},
     "output_type": "display_data"
    }
   ],
   "source": [
    "nrow( dtrain)\n",
    "nrow( dtest )\n",
    "nrow( dtrain) + nrow(dtest)\n",
    "nrow( denero)"
   ]
  },
  {
   "cell_type": "markdown",
   "metadata": {},
   "source": [
    "Compruebo que la particion es estratificada"
   ]
  },
  {
   "cell_type": "code",
   "execution_count": 9,
   "metadata": {
    "vscode": {
     "languageId": "r"
    }
   },
   "outputs": [
    {
     "data": {
      "text/html": [
       "<table class=\"dataframe\">\n",
       "<caption>A data.table: 3 × 2</caption>\n",
       "<thead>\n",
       "\t<tr><th scope=col>clase_ternaria</th><th scope=col>N</th></tr>\n",
       "\t<tr><th scope=col>&lt;chr&gt;</th><th scope=col>&lt;int&gt;</th></tr>\n",
       "</thead>\n",
       "<tbody>\n",
       "\t<tr><td>CONTINUA</td><td>159828</td></tr>\n",
       "\t<tr><td>BAJA+1  </td><td>   664</td></tr>\n",
       "\t<tr><td>BAJA+2  </td><td>   850</td></tr>\n",
       "</tbody>\n",
       "</table>\n"
      ],
      "text/latex": [
       "A data.table: 3 × 2\n",
       "\\begin{tabular}{ll}\n",
       " clase\\_ternaria & N\\\\\n",
       " <chr> & <int>\\\\\n",
       "\\hline\n",
       "\t CONTINUA & 159828\\\\\n",
       "\t BAJA+1   &    664\\\\\n",
       "\t BAJA+2   &    850\\\\\n",
       "\\end{tabular}\n"
      ],
      "text/markdown": [
       "\n",
       "A data.table: 3 × 2\n",
       "\n",
       "| clase_ternaria &lt;chr&gt; | N &lt;int&gt; |\n",
       "|---|---|\n",
       "| CONTINUA | 159828 |\n",
       "| BAJA+1   |    664 |\n",
       "| BAJA+2   |    850 |\n",
       "\n"
      ],
      "text/plain": [
       "  clase_ternaria N     \n",
       "1 CONTINUA       159828\n",
       "2 BAJA+1            664\n",
       "3 BAJA+2            850"
      ]
     },
     "metadata": {},
     "output_type": "display_data"
    },
    {
     "data": {
      "text/html": [
       "<table class=\"dataframe\">\n",
       "<caption>A data.table: 3 × 2</caption>\n",
       "<thead>\n",
       "\t<tr><th scope=col>clase_ternaria</th><th scope=col>N</th></tr>\n",
       "\t<tr><th scope=col>&lt;chr&gt;</th><th scope=col>&lt;int&gt;</th></tr>\n",
       "</thead>\n",
       "<tbody>\n",
       "\t<tr><td>CONTINUA</td><td>79914</td></tr>\n",
       "\t<tr><td>BAJA+1  </td><td>  332</td></tr>\n",
       "\t<tr><td>BAJA+2  </td><td>  425</td></tr>\n",
       "</tbody>\n",
       "</table>\n"
      ],
      "text/latex": [
       "A data.table: 3 × 2\n",
       "\\begin{tabular}{ll}\n",
       " clase\\_ternaria & N\\\\\n",
       " <chr> & <int>\\\\\n",
       "\\hline\n",
       "\t CONTINUA & 79914\\\\\n",
       "\t BAJA+1   &   332\\\\\n",
       "\t BAJA+2   &   425\\\\\n",
       "\\end{tabular}\n"
      ],
      "text/markdown": [
       "\n",
       "A data.table: 3 × 2\n",
       "\n",
       "| clase_ternaria &lt;chr&gt; | N &lt;int&gt; |\n",
       "|---|---|\n",
       "| CONTINUA | 79914 |\n",
       "| BAJA+1   |   332 |\n",
       "| BAJA+2   |   425 |\n",
       "\n"
      ],
      "text/plain": [
       "  clase_ternaria N    \n",
       "1 CONTINUA       79914\n",
       "2 BAJA+1           332\n",
       "3 BAJA+2           425"
      ]
     },
     "metadata": {},
     "output_type": "display_data"
    },
    {
     "data": {
      "text/html": [
       "<table class=\"dataframe\">\n",
       "<caption>A data.table: 3 × 2</caption>\n",
       "<thead>\n",
       "\t<tr><th scope=col>clase_ternaria</th><th scope=col>N</th></tr>\n",
       "\t<tr><th scope=col>&lt;chr&gt;</th><th scope=col>&lt;int&gt;</th></tr>\n",
       "</thead>\n",
       "<tbody>\n",
       "\t<tr><td>CONTINUA</td><td>79914</td></tr>\n",
       "\t<tr><td>BAJA+1  </td><td>  332</td></tr>\n",
       "\t<tr><td>BAJA+2  </td><td>  425</td></tr>\n",
       "</tbody>\n",
       "</table>\n"
      ],
      "text/latex": [
       "A data.table: 3 × 2\n",
       "\\begin{tabular}{ll}\n",
       " clase\\_ternaria & N\\\\\n",
       " <chr> & <int>\\\\\n",
       "\\hline\n",
       "\t CONTINUA & 79914\\\\\n",
       "\t BAJA+1   &   332\\\\\n",
       "\t BAJA+2   &   425\\\\\n",
       "\\end{tabular}\n"
      ],
      "text/markdown": [
       "\n",
       "A data.table: 3 × 2\n",
       "\n",
       "| clase_ternaria &lt;chr&gt; | N &lt;int&gt; |\n",
       "|---|---|\n",
       "| CONTINUA | 79914 |\n",
       "| BAJA+1   |   332 |\n",
       "| BAJA+2   |   425 |\n",
       "\n"
      ],
      "text/plain": [
       "  clase_ternaria N    \n",
       "1 CONTINUA       79914\n",
       "2 BAJA+1           332\n",
       "3 BAJA+2           425"
      ]
     },
     "metadata": {},
     "output_type": "display_data"
    }
   ],
   "source": [
    "denero[  , .N, clase_ternaria]\n",
    "dtrain[  , .N, clase_ternaria]\n",
    "dtest[  , .N, clase_ternaria]"
   ]
  },
  {
   "cell_type": "markdown",
   "metadata": {},
   "source": [
    "La division se ha construido en forma perfectamente estratificada !"
   ]
  }
 ],
 "metadata": {
  "kernelspec": {
   "display_name": "R",
   "language": "R",
   "name": "ir"
  },
  "language_info": {
   "codemirror_mode": "r",
   "file_extension": ".r",
   "mimetype": "text/x-r-source",
   "name": "R",
   "pygments_lexer": "r",
   "version": "4.2.1"
  }
 },
 "nbformat": 4,
 "nbformat_minor": 4
}
