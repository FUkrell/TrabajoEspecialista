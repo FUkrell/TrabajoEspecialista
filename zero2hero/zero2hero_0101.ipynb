{
 "cells": [
  {
   "cell_type": "markdown",
   "metadata": {},
   "source": [
    "# Zero to Hero"
   ]
  },
  {
   "cell_type": "markdown",
   "metadata": {},
   "source": [
    "# 1 Arranque rápido"
   ]
  },
  {
   "cell_type": "markdown",
   "metadata": {},
   "source": [
    "En el capítulo 1 se hará un recorrido por las principales componentes del lenguaje R mínimos necesarios para resolver el problema de la asignatura, justificando las elecciones tomadas.\n",
    "<br>\n",
    "No es la idea de estos notebooks ser un manual del lenguaje R ni tampoco de los paquetes."
   ]
  },
  {
   "cell_type": "markdown",
   "metadata": {},
   "source": [
    "## 1.01  Lectura del dataset"
   ]
  },
  {
   "cell_type": "markdown",
   "metadata": {},
   "source": [
    "Trata sobre la motivacion de utilizar  data.table\n",
    "Simplemente se carga el dataset y se mide el tiempo que demora, el que es extremadamente alto e inexplicable."
   ]
  },
  {
   "cell_type": "code",
   "execution_count": 5,
   "metadata": {
    "vscode": {
     "languageId": "r"
    }
   },
   "outputs": [],
   "source": [
    "setwd(\"C:\\\\Users\\\\PC\\\\Desktop\\\\Especializacion UBA\\\\DMEyF\\\\\")  #Establezco el Working Directory"
   ]
  },
  {
   "cell_type": "markdown",
   "metadata": {},
   "source": [
    "Ahora vamos a cargar el dataframe como en R Base, tradicional, pero vamos a medir el tiempo\n",
    "para conocer la hora actual utilizo la fucion de R  Sys.time\n",
    "y para calcular la diferencia utilizo as.numeric(  t1 - t0, units = \"secs\")  convirtiéndolo a segundos"
   ]
  },
  {
   "cell_type": "markdown",
   "metadata": {},
   "source": [
    "Primero veo que hace la funcion  Sys.time()"
   ]
  },
  {
   "cell_type": "code",
   "execution_count": 6,
   "metadata": {
    "vscode": {
     "languageId": "r"
    }
   },
   "outputs": [
    {
     "data": {
      "text/plain": [
       "[1] \"2022-08-18 15:44:04 -03\""
      ]
     },
     "metadata": {},
     "output_type": "display_data"
    }
   ],
   "source": [
    "Sys.time()"
   ]
  },
  {
   "cell_type": "markdown",
   "metadata": {},
   "source": [
    "devuelve fecha, hora  y huso horario  ( -03 para el caso de Argentina)\n",
    "<br>\n",
    "Leyendo la documentación  en  https://www.rdocumentation.org/packages/base/versions/3.6.2/topics/Sys.time    veo que la precisión es de 1/60 segundos,  lo cual para el tipo de medidas que tomaremos es más que suficiente."
   ]
  },
  {
   "cell_type": "code",
   "execution_count": 7,
   "metadata": {
    "vscode": {
     "languageId": "r"
    }
   },
   "outputs": [
    {
     "name": "stdout",
     "output_type": "stream",
     "text": [
      "[1] 56.92978\n"
     ]
    }
   ],
   "source": [
    "t0  <- Sys.time()\n",
    "dataset <- read.csv(\"./datasets/competencia1_2022.csv\")\n",
    "t1  <- Sys.time()\n",
    "delta  <- as.numeric(  t1 - t0, units = \"secs\")  #calculo la diferencia de tiempos\n",
    "print( delta) #imprimo"
   ]
  },
  {
   "cell_type": "markdown",
   "metadata": {},
   "source": [
    "#### la primer corrida da, en una antigua PC de escritorio con un hdd,  44.0 segundos !\n",
    "¿Qué tenebrosos cálculos estará haciendo para demorar 44.0 segundos?\n",
    "A lo sumo tiene que leer el archivo dos veces, para determinar si un campo es numerico o character."
   ]
  },
  {
   "cell_type": "markdown",
   "metadata": {},
   "source": [
    "vuelvo a correr lo mismo, quizas hubo un problema de acceso al disco, y hasta quizas esta segunda vez el archivo ya esté en la memoria del sistema operativo"
   ]
  },
  {
   "cell_type": "code",
   "execution_count": 8,
   "metadata": {
    "vscode": {
     "languageId": "r"
    }
   },
   "outputs": [
    {
     "name": "stdout",
     "output_type": "stream",
     "text": [
      "[1] 47.17965\n"
     ]
    }
   ],
   "source": [
    "t0  <- Sys.time()\n",
    "dataset <- read.csv(\"./datasets/competencia1_2022.csv\")\n",
    "t1  <- Sys.time()\n",
    "delta  <- as.numeric(  t1 - t0, units = \"secs\")  #calculo la diferencia de tiempos\n",
    "print(delta) #imprimo"
   ]
  },
  {
   "cell_type": "markdown",
   "metadata": {},
   "source": [
    "### la segunda corrida da, en la  misma máquina,  35.2 segundos !"
   ]
  },
  {
   "cell_type": "markdown",
   "metadata": {},
   "source": [
    "Se busca bibliografía sobre que alternativa hay al manejo de dataframes del R Base\n",
    "<br>\n",
    "Aparecen varias alternativas, benchmarks muestran la superioridad de data.table\n",
    "<br>\n",
    "Pasamos a probar la libreria  data.table a ver si los becnmarks están en lo cierto, o es solo marketing\n",
    "<br>\n",
    "Si no se tiene instalada la libreria,  instalarla primero con  **install.packages( \"data.table\", dependencies=TRUE )**"
   ]
  },
  {
   "cell_type": "code",
   "execution_count": 9,
   "metadata": {
    "vscode": {
     "languageId": "r"
    }
   },
   "outputs": [],
   "source": [
    "library( \"data.table\")   #cargo la libreria  data.table"
   ]
  },
  {
   "cell_type": "code",
   "execution_count": 10,
   "metadata": {
    "vscode": {
     "languageId": "r"
    }
   },
   "outputs": [
    {
     "name": "stdout",
     "output_type": "stream",
     "text": [
      "[1] 2.052757\n"
     ]
    }
   ],
   "source": [
    "t0  <- Sys.time()\n",
    "dataset <- fread(\"./datasets/competencia1_2022.csv\")\n",
    "t1  <- Sys.time()\n",
    "delta  <- as.numeric(  t1 - t0, units = \"secs\")  #calculo la diferencia de tiempos\n",
    "print(delta) #imprimo"
   ]
  },
  {
   "cell_type": "markdown",
   "metadata": {},
   "source": [
    "### la primer corrida da  1.3 segundos"
   ]
  },
  {
   "cell_type": "markdown",
   "metadata": {},
   "source": [
    "Hagamos una segunda corrida"
   ]
  },
  {
   "cell_type": "code",
   "execution_count": 11,
   "metadata": {
    "vscode": {
     "languageId": "r"
    }
   },
   "outputs": [
    {
     "name": "stdout",
     "output_type": "stream",
     "text": [
      "[1] 2.797769\n"
     ]
    }
   ],
   "source": [
    "t0  <- Sys.time()\n",
    "dataset <- fread(\"./datasets/competencia1_2022.csv\")\n",
    "t1  <- Sys.time()\n",
    "delta  <- as.numeric(  t1 - t0, units = \"secs\")  #calculo la diferencia de tiempos\n",
    "print(delta) #imprimo"
   ]
  },
  {
   "cell_type": "markdown",
   "metadata": {},
   "source": [
    "# la segunda corrida da  1.0 segundos"
   ]
  },
  {
   "cell_type": "markdown",
   "metadata": {},
   "source": [
    "Esta diferencia, calculada en forma muy burda (sin hacer varios experimentos)  es alrededor de 35 a 1\n",
    "<br>\n",
    "Ciertamente leer un dataset es una tarea que se hace unicamente al comienzo de los programas, pero se lee en la bibligrafía que data.table funciona más rápido para *todas* las operaciones sobre datasets, lo que se confirmará en los siguientes capítulos."
   ]
  },
  {
   "cell_type": "markdown",
   "metadata": {},
   "source": [
    "Es una verdadera pena que los fans de tidyverse no exploren data.table, así como en Python que Pandas sea tan servilmente aceptada."
   ]
  }
 ],
 "metadata": {
  "kernelspec": {
   "display_name": "R",
   "language": "R",
   "name": "ir"
  },
  "language_info": {
   "codemirror_mode": "r",
   "file_extension": ".r",
   "mimetype": "text/x-r-source",
   "name": "R",
   "pygments_lexer": "r",
   "version": "4.2.1"
  }
 },
 "nbformat": 4,
 "nbformat_minor": 4
}
